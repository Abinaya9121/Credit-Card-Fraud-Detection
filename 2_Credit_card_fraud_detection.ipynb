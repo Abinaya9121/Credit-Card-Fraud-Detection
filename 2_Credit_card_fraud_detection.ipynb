{
 "cells": [
  {
   "cell_type": "markdown",
   "id": "e325d70a",
   "metadata": {},
   "source": [
    "# Credit Card Fraud Detection With Machine Learning in Python"
   ]
  },
  {
   "cell_type": "markdown",
   "id": "dd6341c1",
   "metadata": {},
   "source": [
    "### In this project, we detect potential fraud cases in a credit card company, so that the customers are ensured that they won’t be charged for the items they did not purchase. <br>Given a dataset, containing the transactions between people, the information that they are fraud or not, and we will differentiate them as fraud transaction or normal transaction.<br>"
   ]
  },
  {
   "cell_type": "markdown",
   "id": "77f91aaf",
   "metadata": {},
   "source": [
    "### Steps Involved<br>\n",
    "<li>Importing the required packages into our python environment.\n",
    "<li>Importing the data\n",
    "<li>Processing the data to our needs and Exploratory Data Analysis\n",
    "<li>Feature Selection and Data Split\n",
    "<li>Building six types of classification models\n",
    "<li>Evaluating the created classification models using the evaluation metrics"
   ]
  },
  {
   "cell_type": "code",
   "execution_count": 2,
   "id": "ee7dc6b9",
   "metadata": {},
   "outputs": [
    {
     "name": "stdout",
     "output_type": "stream",
     "text": [
      "Collecting termcolor\n",
      "  Downloading termcolor-1.1.0.tar.gz (3.9 kB)\n",
      "Building wheels for collected packages: termcolor\n",
      "  Building wheel for termcolor (setup.py): started\n",
      "  Building wheel for termcolor (setup.py): finished with status 'done'\n",
      "  Created wheel for termcolor: filename=termcolor-1.1.0-py3-none-any.whl size=4829 sha256=62c74cee9692c0ab9861b08b88fe5d876b661362ab0280c50d48c6981482a1e5\n",
      "  Stored in directory: c:\\users\\abinaya_ub\\appdata\\local\\pip\\cache\\wheels\\a0\\16\\9c\\5473df82468f958445479c59e784896fa24f4a5fc024b0f501\n",
      "Successfully built termcolor\n",
      "Installing collected packages: termcolor\n",
      "Successfully installed termcolor-1.1.0\n",
      "Note: you may need to restart the kernel to use updated packages.\n"
     ]
    }
   ],
   "source": [
    "pip install termcolor"
   ]
  },
  {
   "cell_type": "code",
   "execution_count": 4,
   "id": "93ecabad",
   "metadata": {},
   "outputs": [
    {
     "name": "stdout",
     "output_type": "stream",
     "text": [
      "Collecting xgboost\n",
      "  Downloading xgboost-1.4.2-py3-none-win_amd64.whl (97.8 MB)\n",
      "Requirement already satisfied: numpy in c:\\users\\abinaya_ub\\anaconda3\\lib\\site-packages (from xgboost) (1.19.5)\n",
      "Requirement already satisfied: scipy in c:\\users\\abinaya_ub\\anaconda3\\lib\\site-packages (from xgboost) (1.6.2)\n",
      "Installing collected packages: xgboost\n",
      "Successfully installed xgboost-1.4.2\n",
      "Note: you may need to restart the kernel to use updated packages.\n"
     ]
    }
   ],
   "source": [
    "pip install xgboost"
   ]
  },
  {
   "cell_type": "code",
   "execution_count": 36,
   "id": "b0f033ee",
   "metadata": {},
   "outputs": [],
   "source": [
    "# IMPORTING PACKAGES\n",
    "\n",
    "import pandas as pd # data processing\n",
    "import numpy as np # working with arrays\n",
    "import matplotlib.pyplot as plt # visualization\n",
    "from termcolor import colored as cl # text customization\n",
    "import itertools # advanced tools\n",
    "\n",
    "from sklearn.preprocessing import StandardScaler # data normalization\n",
    "from sklearn.model_selection import train_test_split # data split\n",
    "from sklearn.tree import DecisionTreeClassifier # Decision tree algorithm\n",
    "from sklearn.neighbors import KNeighborsClassifier # KNN algorithm\n",
    "from sklearn.linear_model import LogisticRegression # Logistic regression algorithm\n",
    "from sklearn.svm import SVC # SVM algorithm\n",
    "from sklearn.ensemble import RandomForestClassifier # Random forest tree algorithm\n",
    "from xgboost import XGBClassifier # XGBoost algorithm\n",
    "\n",
    "from sklearn.metrics import confusion_matrix # evaluation metric\n",
    "from sklearn.metrics import accuracy_score # evaluation metric\n",
    "from sklearn.metrics import f1_score # evaluation metric"
   ]
  },
  {
   "cell_type": "markdown",
   "id": "1897159c",
   "metadata": {},
   "source": [
    "### Importing Data"
   ]
  },
  {
   "cell_type": "code",
   "execution_count": 37,
   "id": "27249fa7",
   "metadata": {},
   "outputs": [
    {
     "name": "stdout",
     "output_type": "stream",
     "text": [
      "         V1        V2        V3        V4        V5        V6        V7  \\\n",
      "0 -1.359807 -0.072781  2.536347  1.378155 -0.338321  0.462388  0.239599   \n",
      "1  1.191857  0.266151  0.166480  0.448154  0.060018 -0.082361 -0.078803   \n",
      "2 -1.358354 -1.340163  1.773209  0.379780 -0.503198  1.800499  0.791461   \n",
      "3 -0.966272 -0.185226  1.792993 -0.863291 -0.010309  1.247203  0.237609   \n",
      "4 -1.158233  0.877737  1.548718  0.403034 -0.407193  0.095921  0.592941   \n",
      "\n",
      "         V8        V9       V10  ...       V21       V22       V23       V24  \\\n",
      "0  0.098698  0.363787  0.090794  ... -0.018307  0.277838 -0.110474  0.066928   \n",
      "1  0.085102 -0.255425 -0.166974  ... -0.225775 -0.638672  0.101288 -0.339846   \n",
      "2  0.247676 -1.514654  0.207643  ...  0.247998  0.771679  0.909412 -0.689281   \n",
      "3  0.377436 -1.387024 -0.054952  ... -0.108300  0.005274 -0.190321 -1.175575   \n",
      "4 -0.270533  0.817739  0.753074  ... -0.009431  0.798278 -0.137458  0.141267   \n",
      "\n",
      "        V25       V26       V27       V28  Amount  Class  \n",
      "0  0.128539 -0.189115  0.133558 -0.021053  149.62      0  \n",
      "1  0.167170  0.125895 -0.008983  0.014724    2.69      0  \n",
      "2 -0.327642 -0.139097 -0.055353 -0.059752  378.66      0  \n",
      "3  0.647376 -0.221929  0.062723  0.061458  123.50      0  \n",
      "4 -0.206010  0.502292  0.219422  0.215153   69.99      0  \n",
      "\n",
      "[5 rows x 30 columns]\n"
     ]
    }
   ],
   "source": [
    "df = pd.read_csv('datasets/creditcard.csv')\n",
    "df.drop('Time', axis = 1, inplace = True)\n",
    "\n",
    "print(df.head())\n",
    "\n",
    "# It contains features V1 to V28 which are the principal components obtained by PCA. \n",
    "# We are going to neglect the time feature which is of no use to build the models. \n",
    "# The remaining features are the ‘Amount’ feature that contains the total amount of money being transacted \n",
    "# and the ‘Class’ feature that contains whether the transaction is a fraud case or not."
   ]
  },
  {
   "cell_type": "markdown",
   "id": "16109d4e",
   "metadata": {},
   "source": [
    "### Data Processing and EDA"
   ]
  },
  {
   "cell_type": "code",
   "execution_count": 38,
   "id": "93bbfeb9",
   "metadata": {},
   "outputs": [
    {
     "name": "stdout",
     "output_type": "stream",
     "text": [
      "CASE COUNT\n",
      "Total number of cases are       284807\n",
      "Number of Non-fraud cases are   284315\n",
      "Number of fraud cases are       492\n",
      "Percentage of fraud cases is    0.17\n"
     ]
    }
   ],
   "source": [
    "cases = len(df)\n",
    "nonfraud_count = len(df[df.Class == 0])\n",
    "fraud_count = len(df[df.Class == 1])\n",
    "fraud_percentage = round(fraud_count/nonfraud_count*100, 2)\n",
    "\n",
    "print('CASE COUNT')\n",
    "print('Total number of cases are       {}'.format(cases))\n",
    "print('Number of Non-fraud cases are   {}'.format(nonfraud_count))\n",
    "print('Number of fraud cases are       {}'.format(fraud_count))\n",
    "print('Percentage of fraud cases is    {}'.format(fraud_percentage))\n",
    "\n",
    "# It shows the dataset is highly imbalanced data and we have to balanace it."
   ]
  },
  {
   "cell_type": "code",
   "execution_count": 39,
   "id": "b3d92c6e",
   "metadata": {},
   "outputs": [
    {
     "name": "stdout",
     "output_type": "stream",
     "text": [
      "count    284315.000000\n",
      "mean         88.291022\n",
      "std         250.105092\n",
      "min           0.000000\n",
      "25%           5.650000\n",
      "50%          22.000000\n",
      "75%          77.050000\n",
      "max       25691.160000\n",
      "Name: Amount, dtype: float64\n"
     ]
    }
   ],
   "source": [
    "nonfraud_cases = df[df.Class == 0]\n",
    "print(nonfraud_cases.Amount.describe())\n",
    "\n",
    "# description of amount in non fraud cases."
   ]
  },
  {
   "cell_type": "code",
   "execution_count": 40,
   "id": "4ef00366",
   "metadata": {},
   "outputs": [
    {
     "name": "stdout",
     "output_type": "stream",
     "text": [
      "count     492.000000\n",
      "mean      122.211321\n",
      "std       256.683288\n",
      "min         0.000000\n",
      "25%         1.000000\n",
      "50%         9.250000\n",
      "75%       105.890000\n",
      "max      2125.870000\n",
      "Name: Amount, dtype: float64\n"
     ]
    }
   ],
   "source": [
    "fraud_cases = df[df.Class == 1]\n",
    "print(fraud_cases.Amount.describe())\n",
    "\n",
    "# description of amount in fraud cases."
   ]
  },
  {
   "cell_type": "markdown",
   "id": "d9676b10",
   "metadata": {},
   "source": [
    "####  It is seen that the values in the ‘Amount’ variable are varying enormously when compared to the rest of the variables. To reduce its wide range of values, we can normalize it using the ‘StandardScaler’ method in python."
   ]
  },
  {
   "cell_type": "code",
   "execution_count": 41,
   "id": "ec8b8cf1",
   "metadata": {},
   "outputs": [
    {
     "name": "stdout",
     "output_type": "stream",
     "text": [
      "0    0.244964\n",
      "1   -0.342475\n",
      "2    1.160686\n",
      "3    0.140534\n",
      "4   -0.073403\n",
      "5   -0.338556\n",
      "6   -0.333279\n",
      "7   -0.190107\n",
      "8    0.019392\n",
      "9   -0.338516\n",
      "Name: Amount, dtype: float64\n"
     ]
    }
   ],
   "source": [
    "sc = StandardScaler()\n",
    "amount = df['Amount'].values\n",
    "\n",
    "df['Amount'] = sc.fit_transform(amount.reshape(-1, 1))\n",
    "\n",
    "print(df['Amount'].head(10))"
   ]
  },
  {
   "cell_type": "markdown",
   "id": "ad89a8df",
   "metadata": {},
   "source": [
    "### Feature Selection & Data Split"
   ]
  },
  {
   "cell_type": "code",
   "execution_count": 42,
   "id": "a6fb3655",
   "metadata": {},
   "outputs": [],
   "source": [
    "X = df.drop('Class', axis = 1).values\n",
    "y = df['Class'].values"
   ]
  },
  {
   "cell_type": "code",
   "execution_count": 43,
   "id": "8d306a0c",
   "metadata": {},
   "outputs": [
    {
     "name": "stdout",
     "output_type": "stream",
     "text": [
      "X_train samples :  [[-1.11504743  1.03558276  0.80071244 -1.06039825  0.03262117  0.85342216\n",
      "  -0.61424348 -3.23116112  1.53994798 -0.81690879 -1.30559201  0.1081772\n",
      "  -0.85960958 -0.07193421  0.90665563 -1.72092961  0.79785322 -0.0067594\n",
      "   1.95677806 -0.64489556  3.02038533 -0.53961798  0.03315649 -0.77494577\n",
      "   0.10586781 -0.43085348  0.22973694 -0.0705913  -0.30145418]]\n",
      "X_test samples :  [[-0.32333357  1.05745525 -0.04834115 -0.60720431  1.25982115 -0.09176072\n",
      "   1.1591015  -0.12433461 -0.17463954 -1.64440065 -1.11886302  0.20264731\n",
      "   1.14596495 -1.80235956 -0.24717793 -0.06094535  0.84660574  0.37945439\n",
      "   0.84726224  0.18640942 -0.20709827 -0.43389027 -0.26161328 -0.04665061\n",
      "   0.2115123   0.00829721  0.10849443  0.16113917 -0.19330595]]\n",
      "y_train samples :  [0 0 0 0 0 0 0 0 0 0 0 0 0 0 0 0 0 0 0 0]\n",
      "y_test samples :  [0 0 0 0 0 0 0 0 0 0 0 0 0 0 0 0 0 0 0 0]\n"
     ]
    }
   ],
   "source": [
    "X_train, X_test, y_train, y_test = train_test_split(X, y, test_size = 0.2, random_state = 0)\n",
    "print('X_train samples : ', X_train[:1])\n",
    "print('X_test samples : ', X_test[0:1])\n",
    "print('y_train samples : ', y_train[0:20])\n",
    "print('y_test samples : ', y_test[0:20])"
   ]
  },
  {
   "cell_type": "markdown",
   "id": "785d74a7",
   "metadata": {},
   "source": [
    "### Modelling"
   ]
  },
  {
   "cell_type": "markdown",
   "id": "556dd4c1",
   "metadata": {},
   "source": [
    "#### In this step, we will be building six different types of classification models namely \n",
    "<li>Decision Tree\n",
    "<li>K-Nearest Neighbors (KNN)\n",
    "    <li>Logistic Regression\n",
    "        <li>Support Vector Machine (SVM)\n",
    "            <li>Random Forest and XGBoost."
   ]
  },
  {
   "cell_type": "code",
   "execution_count": 44,
   "id": "ea5e1628",
   "metadata": {},
   "outputs": [],
   "source": [
    "# Decision Tree Model\n",
    "\n",
    "tree_model = DecisionTreeClassifier(max_depth = 4, criterion = 'entropy')\n",
    "tree_model.fit(X_train, y_train)\n",
    "tree_yhat = tree_model.predict(X_test)\n",
    "\n",
    "# max_depth = 4 which means we are allowing the tree to split four times.\n",
    "# criterion to be entropy which is most similar to the max_depth but determines when to stop splitting the tree."
   ]
  },
  {
   "cell_type": "code",
   "execution_count": 45,
   "id": "8358c288",
   "metadata": {},
   "outputs": [],
   "source": [
    "# K-Nearest Neighbors\n",
    "\n",
    "n = 5\n",
    "knn = KNeighborsClassifier(n_neighbors = n)\n",
    "knn.fit(X_train, y_train)\n",
    "knn_yhat = knn.predict(X_test)\n",
    "\n",
    "# The value of the ‘n_neighbors’ is randomly selected but can be chosen optimistically through iterating a range of values."
   ]
  },
  {
   "cell_type": "code",
   "execution_count": 46,
   "id": "ad263dd8",
   "metadata": {},
   "outputs": [],
   "source": [
    "# Logistic Regression\n",
    "\n",
    "lr = LogisticRegression()\n",
    "lr.fit(X_train, y_train)\n",
    "lr_yhat = lr.predict(X_test)"
   ]
  },
  {
   "cell_type": "code",
   "execution_count": 47,
   "id": "277c0e71",
   "metadata": {},
   "outputs": [],
   "source": [
    "# SVM \n",
    "\n",
    "svm = SVC()\n",
    "svm.fit(X_train, y_train)\n",
    "svm_yhat = svm.predict(X_test)"
   ]
  },
  {
   "cell_type": "code",
   "execution_count": 48,
   "id": "a74806e3",
   "metadata": {},
   "outputs": [],
   "source": [
    "# Random Forest Tree\n",
    "\n",
    "rf = RandomForestClassifier(max_depth = 4)\n",
    "rf.fit(X_train, y_train)\n",
    "rf_yhat = rf.predict(X_test)\n",
    "\n",
    "# The main difference between the decision tree and the random forest is that, \n",
    "#   decision tree uses the entire dataset to construct a single model \n",
    "#   whereas, the random forest uses randomly selected features to construct multiple models. \n",
    "# That’s the reason why the random forest model is used versus a decision tree."
   ]
  },
  {
   "cell_type": "code",
   "execution_count": 49,
   "id": "14567b55",
   "metadata": {},
   "outputs": [
    {
     "name": "stderr",
     "output_type": "stream",
     "text": [
      "C:\\Users\\Abinaya_UB\\anaconda3\\lib\\site-packages\\xgboost\\sklearn.py:1146: UserWarning: The use of label encoder in XGBClassifier is deprecated and will be removed in a future release. To remove this warning, do the following: 1) Pass option use_label_encoder=False when constructing XGBClassifier object; and 2) Encode your labels (y) as integers starting with 0, i.e. 0, 1, 2, ..., [num_class - 1].\n",
      "  warnings.warn(label_encoder_deprecation_msg, UserWarning)\n"
     ]
    },
    {
     "name": "stdout",
     "output_type": "stream",
     "text": [
      "[13:47:46] WARNING: C:/Users/Administrator/workspace/xgboost-win64_release_1.4.0/src/learner.cc:1095: Starting in XGBoost 1.3.0, the default evaluation metric used with the objective 'binary:logistic' was changed from 'error' to 'logloss'. Explicitly set eval_metric if you'd like to restore the old behavior.\n"
     ]
    }
   ],
   "source": [
    "# XGBoost\n",
    "\n",
    "xgb = XGBClassifier(max_depth = 4)\n",
    "xgb.fit(X_train, y_train)\n",
    "xgb_yhat = xgb.predict(X_test)"
   ]
  },
  {
   "cell_type": "markdown",
   "id": "0a58ead2",
   "metadata": {},
   "source": [
    "### Evaluation of model"
   ]
  },
  {
   "cell_type": "markdown",
   "id": "449917a8",
   "metadata": {},
   "source": [
    "#### Our main objective in this process is to find the best model for our given case. The evaluation metrics we are going to use are the accuracy score metric, f1 score metric, and finally the confusion matrix."
   ]
  },
  {
   "cell_type": "markdown",
   "id": "85eb986a",
   "metadata": {},
   "source": [
    "### 1) Accuracy Score"
   ]
  },
  {
   "cell_type": "markdown",
   "id": "9d273c9d",
   "metadata": {},
   "source": [
    "#### Accuracy score is one of the most basic evaluation metrics which is widely used to evaluate classification models. The accuracy score is calculated simply by dividing the number of correct predictions made by the model by the total number of predictions made by the model (can be multiplied by 100 to transform the result into a percentage).<br>Accuracy score = No.of correct predictions / Total no.of predictions"
   ]
  },
  {
   "cell_type": "code",
   "execution_count": 51,
   "id": "ed672068",
   "metadata": {},
   "outputs": [
    {
     "name": "stdout",
     "output_type": "stream",
     "text": [
      "ACCURACY SCORE\n",
      "------------------------------------------------------------------------\n",
      "Accuracy score of the Decision Tree model is 0.9993679997191109\n",
      "------------------------------------------------------------------------\n",
      "Accuracy score of the KNN model is 0.9995259997893332\n",
      "------------------------------------------------------------------------\n",
      "Accuracy score of the Logistic Regression model is 0.9991924440855307\n",
      "------------------------------------------------------------------------\n",
      "Accuracy score of the SVM model is 0.9993153330290369\n",
      "------------------------------------------------------------------------\n",
      "Accuracy score of the Random Forest Tree model is 0.9993153330290369\n",
      "------------------------------------------------------------------------\n",
      "Accuracy score of the XGBoost model is 0.9994908886626171\n",
      "------------------------------------------------------------------------\n"
     ]
    }
   ],
   "source": [
    "print('ACCURACY SCORE')\n",
    "print('------------------------------------------------------------------------')\n",
    "print('Accuracy score of the Decision Tree model is {}'.format(accuracy_score(y_test, tree_yhat)))\n",
    "print('------------------------------------------------------------------------')\n",
    "print('Accuracy score of the KNN model is {}'.format(accuracy_score(y_test, knn_yhat)))\n",
    "print('------------------------------------------------------------------------')\n",
    "print('Accuracy score of the Logistic Regression model is {}'.format(accuracy_score(y_test, lr_yhat)))\n",
    "print('------------------------------------------------------------------------')\n",
    "print('Accuracy score of the SVM model is {}'.format(accuracy_score(y_test, svm_yhat)))\n",
    "print('------------------------------------------------------------------------')\n",
    "print('Accuracy score of the Random Forest Tree model is {}'.format(accuracy_score(y_test, rf_yhat)))\n",
    "print('------------------------------------------------------------------------')\n",
    "print('Accuracy score of the XGBoost model is {}'.format(accuracy_score(y_test, xgb_yhat)))\n",
    "print('------------------------------------------------------------------------')\n",
    "\n",
    "\n",
    "# According to the accuracy score evaluation metric, \n",
    "#    the KNN model reveals to be the most accurate model.\n",
    "#    the Logistic regression model to be the least accurate model. \n",
    "# However, when we round up the results of each model, it shows 0.99 (99% accurate) which is a very good score."
   ]
  },
  {
   "cell_type": "markdown",
   "id": "88cc9116",
   "metadata": {},
   "source": [
    "### F1 Score"
   ]
  },
  {
   "cell_type": "markdown",
   "id": "75cd3219",
   "metadata": {},
   "source": [
    "#### The F1 score or F-score is one of the most popular evaluation metrics used for evaluating classification models. It can be simply defined as the harmonic mean of the model’s precision and recall. It is calculated by dividing the product of the model’s precision and recall by the value obtained on adding the model’s precision and recall and finally multiplying the result with 2.<br>F1 score = 2( (precision * recall) / (precision + recall) )"
   ]
  },
  {
   "cell_type": "code",
   "execution_count": 53,
   "id": "287f2345",
   "metadata": {},
   "outputs": [
    {
     "name": "stdout",
     "output_type": "stream",
     "text": [
      "F1 SCORE\n",
      "------------------------------------------------------------------------\n",
      "F1 score of the Decision Tree model is 0.8105263157894738\n",
      "------------------------------------------------------------------------\n",
      "F1 score of the KNN model is 0.8571428571428572\n",
      "------------------------------------------------------------------------\n",
      "F1 score of the Logistic Regression model is 0.7356321839080459\n",
      "------------------------------------------------------------------------\n",
      "F1 score of the SVM model is 0.7771428571428572\n",
      "------------------------------------------------------------------------\n",
      "F1 score of the Random Forest Tree model is 0.7796610169491525\n",
      "------------------------------------------------------------------------\n",
      "F1 score of the XGBoost model is 0.8449197860962566\n",
      "------------------------------------------------------------------------\n"
     ]
    }
   ],
   "source": [
    "print('F1 SCORE')\n",
    "print('------------------------------------------------------------------------')\n",
    "print('F1 score of the Decision Tree model is {}'.format(f1_score(y_test, tree_yhat)))\n",
    "print('------------------------------------------------------------------------')\n",
    "print('F1 score of the KNN model is {}'.format(f1_score(y_test, knn_yhat)))\n",
    "print('------------------------------------------------------------------------')\n",
    "print('F1 score of the Logistic Regression model is {}'.format(f1_score(y_test, lr_yhat))\n",
    "     )\n",
    "print('------------------------------------------------------------------------')\n",
    "print('F1 score of the SVM model is {}'.format(f1_score(y_test, svm_yhat)))\n",
    "print('------------------------------------------------------------------------')\n",
    "print('F1 score of the Random Forest Tree model is {}'.format(f1_score(y_test, rf_yhat)))\n",
    "print('------------------------------------------------------------------------')\n",
    "print('F1 score of the XGBoost model is {}'.format(f1_score(y_test, xgb_yhat)))\n",
    "print('------------------------------------------------------------------------')\n",
    "\n",
    "\n",
    "# The ranking of the models is almost similar to the previous evaluation metric. \n",
    "# On basis of the F1 score evaluation metric, \n",
    "#   the KNN model snatches the first place again \n",
    "#   the Logistic regression model remains to be the least accurate model."
   ]
  },
  {
   "cell_type": "markdown",
   "id": "3cb890f1",
   "metadata": {},
   "source": [
    "### Confusion Matrix"
   ]
  },
  {
   "cell_type": "markdown",
   "id": "a690f952",
   "metadata": {},
   "source": [
    "#### Confusion matrix is a visualization of a classification model that shows how well the model has predicted the outcomes when compared to the original ones. Usually, the predicted outcomes are stored in a variable that is then converted into a correlation table. Using the correlation table, the confusion matrix is plotted in the form of a heatmap. Even though there are several built-in methods to visualize a confusion matrix, we are going to define and visualize it from scratch for better understanding."
   ]
  },
  {
   "cell_type": "code",
   "execution_count": 54,
   "id": "3f30d943",
   "metadata": {},
   "outputs": [],
   "source": [
    "def plot_confusion_matrix(cm, classes, title, normalize = False, cmap = plt.cm.Blues):\n",
    "    title = 'Confusion Matrix of {}'.format(title)\n",
    "    if normalize:\n",
    "        cm = cm.astype(float) / cm.sum(axis=1)[:, np.newaxis]\n",
    "\n",
    "    plt.imshow(cm, interpolation = 'nearest', cmap = cmap)\n",
    "    plt.title(title)\n",
    "    plt.colorbar()\n",
    "    tick_marks = np.arange(len(classes))\n",
    "    plt.xticks(tick_marks, classes, rotation = 45)\n",
    "    plt.yticks(tick_marks, classes)\n",
    "\n",
    "    fmt = '.2f' if normalize else 'd'\n",
    "    thresh = cm.max() / 2.\n",
    "    for i, j in itertools.product(range(cm.shape[0]), range(cm.shape[1])):\n",
    "        plt.text(j, i, format(cm[i, j], fmt),\n",
    "                 horizontalalignment = 'center',\n",
    "                 color = 'white' if cm[i, j] > thresh else 'black')\n",
    "\n",
    "    plt.tight_layout()\n",
    "    plt.ylabel('True label')\n",
    "    plt.xlabel('Predicted label')\n"
   ]
  },
  {
   "cell_type": "code",
   "execution_count": 55,
   "id": "9c45826b",
   "metadata": {},
   "outputs": [
    {
     "data": {
      "image/png": "[encoded data removed]",
      "text/plain": [
       "<Figure size 432x288 with 2 Axes>"
      ]
     },
     "metadata": {
      "needs_background": "light"
     },
     "output_type": "display_data"
    }
   ],
   "source": [
    "tree_matrix = confusion_matrix(y_test, tree_yhat, labels = [0, 1]) # Decision Tree\n",
    "tree_cm_plot = plot_confusion_matrix(tree_matrix, \n",
    "                                classes = ['Non-Default(0)','Default(1)'], \n",
    "                                normalize = False, title = 'Decision Tree')\n",
    "#plt.savefig('tree_cm_plot.png')\n",
    "plt.show()"
   ]
  },
  {
   "cell_type": "code",
   "execution_count": 56,
   "id": "99db155b",
   "metadata": {},
   "outputs": [
    {
     "data": {
      "image/png": "[encoded data removed]",
      "text/plain": [
       "<Figure size 432x288 with 2 Axes>"
      ]
     },
     "metadata": {
      "needs_background": "light"
     },
     "output_type": "display_data"
    }
   ],
   "source": [
    "knn_matrix = confusion_matrix(y_test, knn_yhat, labels = [0, 1]) # K-Nearest Neighbors\n",
    "knn_cm_plot = plot_confusion_matrix(knn_matrix, \n",
    "                                classes = ['Non-Default(0)','Default(1)'], \n",
    "                                normalize = False, title = 'KNN')\n",
    "#plt.savefig('knn_cm_plot.png')\n",
    "plt.show()"
   ]
  },
  {
   "cell_type": "code",
   "execution_count": 57,
   "id": "49fdfdca",
   "metadata": {},
   "outputs": [
    {
     "data": {
      "image/png": "[encoded data removed]",
      "text/plain": [
       "<Figure size 432x288 with 2 Axes>"
      ]
     },
     "metadata": {
      "needs_background": "light"
     },
     "output_type": "display_data"
    }
   ],
   "source": [
    "lr_matrix = confusion_matrix(y_test, lr_yhat, labels = [0, 1]) # Logistic Regression\n",
    "lr_cm_plot = plot_confusion_matrix(lr_matrix, \n",
    "                                classes = ['Non-Default(0)','Default(1)'], \n",
    "                                normalize = False, title = 'Logistic Regression')\n",
    "#plt.savefig('lr_cm_plot.png')\n",
    "plt.show()"
   ]
  },
  {
   "cell_type": "code",
   "execution_count": 58,
   "id": "077f9730",
   "metadata": {},
   "outputs": [
    {
     "data": {
      "image/png": "[encoded data removed]",
      "text/plain": [
       "<Figure size 432x288 with 2 Axes>"
      ]
     },
     "metadata": {
      "needs_background": "light"
     },
     "output_type": "display_data"
    }
   ],
   "source": [
    "svm_matrix = confusion_matrix(y_test, svm_yhat, labels = [0, 1]) # Support Vector Machine\n",
    "svm_cm_plot = plot_confusion_matrix(svm_matrix, \n",
    "                                classes = ['Non-Default(0)','Default(1)'], \n",
    "                                normalize = False, title = 'SVM')\n",
    "#plt.savefig('svm_cm_plot.png')\n",
    "plt.show()"
   ]
  },
  {
   "cell_type": "code",
   "execution_count": 59,
   "id": "3800deba",
   "metadata": {},
   "outputs": [
    {
     "data": {
      "image/png": "[encoded data removed]",
      "text/plain": [
       "<Figure size 432x288 with 2 Axes>"
      ]
     },
     "metadata": {
      "needs_background": "light"
     },
     "output_type": "display_data"
    }
   ],
   "source": [
    "rf_matrix = confusion_matrix(y_test, rf_yhat, labels = [0, 1]) # Random Forest Tree\n",
    "rf_cm_plot = plot_confusion_matrix(rf_matrix, \n",
    "                                classes = ['Non-Default(0)','Default(1)'], \n",
    "                                normalize = False, title = 'Random Forest Tree')\n",
    "#plt.savefig('rf_cm_plot.png')\n",
    "plt.show()"
   ]
  },
  {
   "cell_type": "code",
   "execution_count": 60,
   "id": "af94f385",
   "metadata": {},
   "outputs": [
    {
     "data": {
      "image/png": "[encoded data removed]",
      "text/plain": [
       "<Figure size 432x288 with 2 Axes>"
      ]
     },
     "metadata": {
      "needs_background": "light"
     },
     "output_type": "display_data"
    }
   ],
   "source": [
    "xgb_matrix = confusion_matrix(y_test, xgb_yhat, labels = [0, 1]) # XGBoost\n",
    "xgb_cm_plot = plot_confusion_matrix(xgb_matrix, \n",
    "                                classes = ['Non-Default(0)','Default(1)'], \n",
    "                                normalize = False, title = 'XGBoost')\n",
    "#plt.savefig('xgb_cm_plot.png')\n",
    "plt.show()"
   ]
  },
  {
   "cell_type": "markdown",
   "id": "0787741a",
   "metadata": {},
   "source": [
    "### K-Nearest Neighbors model has performed a very good job of classifying the fraud transactions from the non-fraud transactions followed by the XGBoost model. So we can conclude that the most appropriate model which can be used for our case is the K-Nearest Neighbors model and the model which can be neglected is the Logistic regression model."
   ]
  },
  {
   "cell_type": "markdown",
   "id": "f8cbb0dc",
   "metadata": {},
   "source": [
    "## After a whole bunch of processes, we have successfully built six different types of classification models starting from the Decision tree model to the XGBoost model. After that, we have evaluated each of the models using the evaluation metrics and chose which model is most suitable for the given case.<br><br>  K-Nearest Neighbors model is the best model for predicting this dataset."
   ]
  },
  {
   "cell_type": "code",
   "execution_count": null,
   "id": "b160f9c8",
   "metadata": {},
   "outputs": [],
   "source": []
  }
 ],
 "metadata": {
  "kernelspec": {
   "display_name": "Python 3",
   "language": "python",
   "name": "python3"
  },
  "language_info": {
   "codemirror_mode": {
    "name": "ipython",
    "version": 3
   },
   "file_extension": ".py",
   "mimetype": "text/x-python",
   "name": "python",
   "nbconvert_exporter": "python",
   "pygments_lexer": "ipython3",
   "version": "3.8.8"
  }
 },
 "nbformat": 4,
 "nbformat_minor": 5
}
